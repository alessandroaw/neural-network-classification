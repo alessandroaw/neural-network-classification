{
 "cells": [
  {
   "cell_type": "code",
   "execution_count": 1,
   "metadata": {},
   "outputs": [],
   "source": [
    "import matplotlib.pyplot as plt\n",
    "import numpy as np\n",
    "import pandas as pd\n",
    "from sklearn.model_selection import train_test_split\n",
    "from sklearn.model_selection import cross_val_score\n",
    "from sklearn.model_selection import KFold\n",
    "from sklearn.pipeline import Pipeline\n",
    "from sklearn.preprocessing import PolynomialFeatures\n",
    "from sklearn.preprocessing import MinMaxScaler\n",
    "from tensorflow.python.keras.models import Sequential\n",
    "from tensorflow.python.keras.layers import Dense\n",
    "from tensorflow.python.keras.wrappers.scikit_learn import KerasRegressor"
   ]
  },
  {
   "cell_type": "code",
   "execution_count": 2,
   "metadata": {},
   "outputs": [
    {
     "name": "stdout",
     "output_type": "stream",
     "text": [
      "MinMaxScaler(copy=True, feature_range=(0, 1))\n",
      "MinMaxScaler(copy=True, feature_range=(0, 1))\n"
     ]
    }
   ],
   "source": [
    "dataset = pd.read_csv('../el4233-2018-2019-02-ann-regresi-training.csv', header=None)\n",
    "x=dataset.iloc[:,0:1].values\n",
    "y=dataset.iloc[:,1].values\n",
    "y=np.reshape(y, (-1,1))\n",
    "scaler = MinMaxScaler()\n",
    "print(scaler.fit(x))\n",
    "print(scaler.fit(y))\n",
    "xscale=scaler.transform(x)\n",
    "yscale=scaler.transform(y)"
   ]
  },
  {
   "cell_type": "code",
   "execution_count": 3,
   "metadata": {},
   "outputs": [],
   "source": [
    "def denormalize(df,norm_data):\n",
    "    df = df[1].values.reshape(-1,1)\n",
    "    norm_data = norm_data.reshape(-1,1)\n",
    "    scl = MinMaxScaler()\n",
    "    a = scl.fit_transform(df)\n",
    "    new = scl.inverse_transform(norm_data)"
   ]
  },
  {
   "cell_type": "code",
   "execution_count": 4,
   "metadata": {},
   "outputs": [],
   "source": [
    "# X_train, X_test, y_train, y_test = train_test_split(xscale, yscale)\n",
    "X_train, X_test, y_train, y_test = train_test_split(xscale, yscale)"
   ]
  },
  {
   "cell_type": "code",
   "execution_count": 5,
   "metadata": {},
   "outputs": [],
   "source": [
    "deg=31"
   ]
  },
  {
   "cell_type": "code",
   "execution_count": 6,
   "metadata": {},
   "outputs": [],
   "source": [
    "poly_feat = PolynomialFeatures(degree=deg)\n",
    "x_poly = poly_feat.fit_transform(X_train)"
   ]
  },
  {
   "cell_type": "code",
   "execution_count": 7,
   "metadata": {},
   "outputs": [
    {
     "name": "stdout",
     "output_type": "stream",
     "text": [
      "WARNING:tensorflow:From /home/alessandro/anaconda3/lib/python3.7/site-packages/tensorflow/python/ops/resource_variable_ops.py:435: colocate_with (from tensorflow.python.framework.ops) is deprecated and will be removed in a future version.\n",
      "Instructions for updating:\n",
      "Colocations handled automatically by placer.\n",
      "_________________________________________________________________\n",
      "Layer (type)                 Output Shape              Param #   \n",
      "=================================================================\n",
      "dense (Dense)                (None, 500)               16500     \n",
      "_________________________________________________________________\n",
      "dense_1 (Dense)              (None, 500)               250500    \n",
      "_________________________________________________________________\n",
      "dense_2 (Dense)              (None, 500)               250500    \n",
      "_________________________________________________________________\n",
      "dense_3 (Dense)              (None, 500)               250500    \n",
      "_________________________________________________________________\n",
      "dense_4 (Dense)              (None, 500)               250500    \n",
      "_________________________________________________________________\n",
      "dense_5 (Dense)              (None, 500)               250500    \n",
      "_________________________________________________________________\n",
      "dense_6 (Dense)              (None, 500)               250500    \n",
      "_________________________________________________________________\n",
      "dense_7 (Dense)              (None, 1)                 501       \n",
      "=================================================================\n",
      "Total params: 1,520,001\n",
      "Trainable params: 1,520,001\n",
      "Non-trainable params: 0\n",
      "_________________________________________________________________\n"
     ]
    }
   ],
   "source": [
    "model = Sequential()\n",
    "model.add(Dense(500, input_dim=deg+1, kernel_initializer='normal', activation='relu'))\n",
    "model.add(Dense(500, activation='relu'))\n",
    "model.add(Dense(500, activation='relu'))\n",
    "model.add(Dense(500, activation='relu'))\n",
    "model.add(Dense(500, activation='relu'))\n",
    "model.add(Dense(500, activation='relu'))\n",
    "model.add(Dense(500, activation='relu'))\n",
    "model.add(Dense(1))\n",
    "model.summary()"
   ]
  },
  {
   "cell_type": "code",
   "execution_count": 8,
   "metadata": {},
   "outputs": [
    {
     "name": "stdout",
     "output_type": "stream",
     "text": [
      "WARNING:tensorflow:From /home/alessandro/anaconda3/lib/python3.7/site-packages/tensorflow/python/keras/utils/losses_utils.py:170: to_float (from tensorflow.python.ops.math_ops) is deprecated and will be removed in a future version.\n",
      "Instructions for updating:\n",
      "Use tf.cast instead.\n"
     ]
    }
   ],
   "source": [
    "model.compile(loss='mse', optimizer='adam', metrics=['mse','mae'])"
   ]
  },
  {
   "cell_type": "code",
   "execution_count": 9,
   "metadata": {},
   "outputs": [
    {
     "name": "stdout",
     "output_type": "stream",
     "text": [
      "Train on 600 samples, validate on 150 samples\n",
      "WARNING:tensorflow:From /home/alessandro/anaconda3/lib/python3.7/site-packages/tensorflow/python/ops/math_ops.py:3066: to_int32 (from tensorflow.python.ops.math_ops) is deprecated and will be removed in a future version.\n",
      "Instructions for updating:\n",
      "Use tf.cast instead.\n",
      "Epoch 1/150\n",
      "600/600 [==============================] - 1s 1ms/sample - loss: 0.1707 - mean_squared_error: 0.1707 - mean_absolute_error: 0.3346 - val_loss: 0.0837 - val_mean_squared_error: 0.0837 - val_mean_absolute_error: 0.2561\n",
      "Epoch 2/150\n",
      "600/600 [==============================] - 0s 609us/sample - loss: 0.0993 - mean_squared_error: 0.0993 - mean_absolute_error: 0.2775 - val_loss: 0.0837 - val_mean_squared_error: 0.0837 - val_mean_absolute_error: 0.2553\n",
      "Epoch 3/150\n",
      "600/600 [==============================] - 0s 617us/sample - loss: 0.0971 - mean_squared_error: 0.0971 - mean_absolute_error: 0.2768 - val_loss: 0.0825 - val_mean_squared_error: 0.0825 - val_mean_absolute_error: 0.2533\n",
      "Epoch 4/150\n",
      "600/600 [==============================] - 0s 620us/sample - loss: 0.0910 - mean_squared_error: 0.0910 - mean_absolute_error: 0.2681 - val_loss: 0.0825 - val_mean_squared_error: 0.0825 - val_mean_absolute_error: 0.2534\n",
      "Epoch 5/150\n",
      "600/600 [==============================] - 0s 626us/sample - loss: 0.0900 - mean_squared_error: 0.0900 - mean_absolute_error: 0.2664 - val_loss: 0.0811 - val_mean_squared_error: 0.0811 - val_mean_absolute_error: 0.2512\n",
      "Epoch 6/150\n",
      "600/600 [==============================] - 0s 617us/sample - loss: 0.0893 - mean_squared_error: 0.0893 - mean_absolute_error: 0.2643 - val_loss: 0.0788 - val_mean_squared_error: 0.0788 - val_mean_absolute_error: 0.2472\n",
      "Epoch 7/150\n",
      "600/600 [==============================] - 0s 628us/sample - loss: 0.0846 - mean_squared_error: 0.0846 - mean_absolute_error: 0.2567 - val_loss: 0.0734 - val_mean_squared_error: 0.0734 - val_mean_absolute_error: 0.2362\n",
      "Epoch 8/150\n",
      "600/600 [==============================] - 0s 633us/sample - loss: 0.0716 - mean_squared_error: 0.0716 - mean_absolute_error: 0.2308 - val_loss: 0.0461 - val_mean_squared_error: 0.0461 - val_mean_absolute_error: 0.1787\n",
      "Epoch 9/150\n",
      "600/600 [==============================] - 0s 640us/sample - loss: 0.0674 - mean_squared_error: 0.0674 - mean_absolute_error: 0.2097 - val_loss: 0.0493 - val_mean_squared_error: 0.0493 - val_mean_absolute_error: 0.1789\n",
      "Epoch 10/150\n",
      "600/600 [==============================] - 0s 652us/sample - loss: 0.0411 - mean_squared_error: 0.0411 - mean_absolute_error: 0.1609 - val_loss: 0.0219 - val_mean_squared_error: 0.0219 - val_mean_absolute_error: 0.1132\n",
      "Epoch 11/150\n",
      "600/600 [==============================] - 0s 647us/sample - loss: 0.0224 - mean_squared_error: 0.0224 - mean_absolute_error: 0.1154 - val_loss: 0.0143 - val_mean_squared_error: 0.0143 - val_mean_absolute_error: 0.0900\n",
      "Epoch 12/150\n",
      "600/600 [==============================] - 0s 642us/sample - loss: 0.0171 - mean_squared_error: 0.0171 - mean_absolute_error: 0.1020 - val_loss: 0.0131 - val_mean_squared_error: 0.0131 - val_mean_absolute_error: 0.0886\n",
      "Epoch 13/150\n",
      "600/600 [==============================] - 0s 662us/sample - loss: 0.0219 - mean_squared_error: 0.0219 - mean_absolute_error: 0.1175 - val_loss: 0.0271 - val_mean_squared_error: 0.0271 - val_mean_absolute_error: 0.1394\n",
      "Epoch 14/150\n",
      "600/600 [==============================] - 0s 653us/sample - loss: 0.0226 - mean_squared_error: 0.0226 - mean_absolute_error: 0.1170 - val_loss: 0.0129 - val_mean_squared_error: 0.0129 - val_mean_absolute_error: 0.0943\n",
      "Epoch 15/150\n",
      "600/600 [==============================] - 0s 719us/sample - loss: 0.0138 - mean_squared_error: 0.0138 - mean_absolute_error: 0.0926 - val_loss: 0.0112 - val_mean_squared_error: 0.0112 - val_mean_absolute_error: 0.0853\n",
      "Epoch 16/150\n",
      "600/600 [==============================] - 0s 665us/sample - loss: 0.0108 - mean_squared_error: 0.0108 - mean_absolute_error: 0.0814 - val_loss: 0.0065 - val_mean_squared_error: 0.0065 - val_mean_absolute_error: 0.0663\n",
      "Epoch 17/150\n",
      "600/600 [==============================] - 0s 671us/sample - loss: 0.0090 - mean_squared_error: 0.0090 - mean_absolute_error: 0.0740 - val_loss: 0.0068 - val_mean_squared_error: 0.0068 - val_mean_absolute_error: 0.0679\n",
      "Epoch 18/150\n",
      "600/600 [==============================] - 0s 662us/sample - loss: 0.0092 - mean_squared_error: 0.0092 - mean_absolute_error: 0.0764 - val_loss: 0.0073 - val_mean_squared_error: 0.0073 - val_mean_absolute_error: 0.0670\n",
      "Epoch 19/150\n",
      "600/600 [==============================] - 0s 656us/sample - loss: 0.0060 - mean_squared_error: 0.0060 - mean_absolute_error: 0.0613 - val_loss: 0.0043 - val_mean_squared_error: 0.0043 - val_mean_absolute_error: 0.0513\n",
      "Epoch 20/150\n",
      "600/600 [==============================] - 0s 741us/sample - loss: 0.0040 - mean_squared_error: 0.0040 - mean_absolute_error: 0.0502 - val_loss: 0.0070 - val_mean_squared_error: 0.0070 - val_mean_absolute_error: 0.0692\n",
      "Epoch 21/150\n",
      "600/600 [==============================] - 0s 652us/sample - loss: 0.0060 - mean_squared_error: 0.0060 - mean_absolute_error: 0.0618 - val_loss: 0.0047 - val_mean_squared_error: 0.0047 - val_mean_absolute_error: 0.0551\n",
      "Epoch 22/150\n",
      "600/600 [==============================] - 0s 688us/sample - loss: 0.0117 - mean_squared_error: 0.0117 - mean_absolute_error: 0.0835 - val_loss: 0.0062 - val_mean_squared_error: 0.0062 - val_mean_absolute_error: 0.0637\n",
      "Epoch 23/150\n",
      "600/600 [==============================] - 0s 662us/sample - loss: 0.0124 - mean_squared_error: 0.0124 - mean_absolute_error: 0.0901 - val_loss: 0.0080 - val_mean_squared_error: 0.0080 - val_mean_absolute_error: 0.0745\n",
      "Epoch 24/150\n",
      "600/600 [==============================] - 0s 666us/sample - loss: 0.0061 - mean_squared_error: 0.0061 - mean_absolute_error: 0.0627 - val_loss: 0.0052 - val_mean_squared_error: 0.0052 - val_mean_absolute_error: 0.0599\n",
      "Epoch 25/150\n",
      "600/600 [==============================] - 0s 675us/sample - loss: 0.0040 - mean_squared_error: 0.0040 - mean_absolute_error: 0.0517 - val_loss: 0.0062 - val_mean_squared_error: 0.0062 - val_mean_absolute_error: 0.0631\n",
      "Epoch 26/150\n",
      "600/600 [==============================] - 0s 662us/sample - loss: 0.0051 - mean_squared_error: 0.0051 - mean_absolute_error: 0.0562 - val_loss: 0.0031 - val_mean_squared_error: 0.0031 - val_mean_absolute_error: 0.0468\n",
      "Epoch 27/150\n",
      "600/600 [==============================] - 0s 666us/sample - loss: 0.0032 - mean_squared_error: 0.0032 - mean_absolute_error: 0.0458 - val_loss: 0.0031 - val_mean_squared_error: 0.0031 - val_mean_absolute_error: 0.0456\n",
      "Epoch 28/150\n",
      "600/600 [==============================] - 0s 681us/sample - loss: 0.0046 - mean_squared_error: 0.0046 - mean_absolute_error: 0.0534 - val_loss: 0.0033 - val_mean_squared_error: 0.0033 - val_mean_absolute_error: 0.0476\n",
      "Epoch 29/150\n",
      "600/600 [==============================] - 0s 666us/sample - loss: 0.0071 - mean_squared_error: 0.0071 - mean_absolute_error: 0.0664 - val_loss: 0.0034 - val_mean_squared_error: 0.0034 - val_mean_absolute_error: 0.0487\n",
      "Epoch 30/150\n",
      "600/600 [==============================] - 0s 660us/sample - loss: 0.0067 - mean_squared_error: 0.0067 - mean_absolute_error: 0.0643 - val_loss: 0.0214 - val_mean_squared_error: 0.0214 - val_mean_absolute_error: 0.1169\n",
      "Epoch 31/150\n",
      "600/600 [==============================] - 0s 666us/sample - loss: 0.0107 - mean_squared_error: 0.0107 - mean_absolute_error: 0.0825 - val_loss: 0.0184 - val_mean_squared_error: 0.0184 - val_mean_absolute_error: 0.1064\n",
      "Epoch 32/150\n",
      "600/600 [==============================] - 0s 681us/sample - loss: 0.0079 - mean_squared_error: 0.0079 - mean_absolute_error: 0.0698 - val_loss: 0.0068 - val_mean_squared_error: 0.0068 - val_mean_absolute_error: 0.0640\n",
      "Epoch 33/150\n",
      "600/600 [==============================] - 0s 661us/sample - loss: 0.0045 - mean_squared_error: 0.0045 - mean_absolute_error: 0.0543 - val_loss: 0.0027 - val_mean_squared_error: 0.0027 - val_mean_absolute_error: 0.0414\n",
      "Epoch 34/150\n",
      "600/600 [==============================] - 0s 689us/sample - loss: 0.0055 - mean_squared_error: 0.0055 - mean_absolute_error: 0.0597 - val_loss: 0.0047 - val_mean_squared_error: 0.0047 - val_mean_absolute_error: 0.0558\n",
      "Epoch 35/150\n"
     ]
    },
    {
     "name": "stdout",
     "output_type": "stream",
     "text": [
      "600/600 [==============================] - 0s 641us/sample - loss: 0.0041 - mean_squared_error: 0.0041 - mean_absolute_error: 0.0507 - val_loss: 0.0073 - val_mean_squared_error: 0.0073 - val_mean_absolute_error: 0.0685\n",
      "Epoch 36/150\n",
      "600/600 [==============================] - 0s 627us/sample - loss: 0.0041 - mean_squared_error: 0.0041 - mean_absolute_error: 0.0509 - val_loss: 0.0022 - val_mean_squared_error: 0.0022 - val_mean_absolute_error: 0.0377\n",
      "Epoch 37/150\n",
      "600/600 [==============================] - 0s 628us/sample - loss: 0.0026 - mean_squared_error: 0.0026 - mean_absolute_error: 0.0408 - val_loss: 0.0030 - val_mean_squared_error: 0.0030 - val_mean_absolute_error: 0.0453\n",
      "Epoch 38/150\n",
      "600/600 [==============================] - 0s 630us/sample - loss: 0.0032 - mean_squared_error: 0.0032 - mean_absolute_error: 0.0445 - val_loss: 0.0037 - val_mean_squared_error: 0.0037 - val_mean_absolute_error: 0.0488\n",
      "Epoch 39/150\n",
      "600/600 [==============================] - 0s 620us/sample - loss: 0.0032 - mean_squared_error: 0.0032 - mean_absolute_error: 0.0455 - val_loss: 0.0045 - val_mean_squared_error: 0.0045 - val_mean_absolute_error: 0.0548\n",
      "Epoch 40/150\n",
      "600/600 [==============================] - 0s 619us/sample - loss: 0.0029 - mean_squared_error: 0.0029 - mean_absolute_error: 0.0433 - val_loss: 0.0022 - val_mean_squared_error: 0.0022 - val_mean_absolute_error: 0.0390\n",
      "Epoch 41/150\n",
      "600/600 [==============================] - 0s 624us/sample - loss: 0.0071 - mean_squared_error: 0.0071 - mean_absolute_error: 0.0672 - val_loss: 0.0080 - val_mean_squared_error: 0.0080 - val_mean_absolute_error: 0.0707\n",
      "Epoch 42/150\n",
      "600/600 [==============================] - 0s 634us/sample - loss: 0.0091 - mean_squared_error: 0.0091 - mean_absolute_error: 0.0746 - val_loss: 0.0136 - val_mean_squared_error: 0.0136 - val_mean_absolute_error: 0.0971\n",
      "Epoch 43/150\n",
      "600/600 [==============================] - 0s 633us/sample - loss: 0.0091 - mean_squared_error: 0.0091 - mean_absolute_error: 0.0759 - val_loss: 0.0141 - val_mean_squared_error: 0.0141 - val_mean_absolute_error: 0.0941\n",
      "Epoch 44/150\n",
      "600/600 [==============================] - 0s 634us/sample - loss: 0.0061 - mean_squared_error: 0.0061 - mean_absolute_error: 0.0607 - val_loss: 0.0041 - val_mean_squared_error: 0.0041 - val_mean_absolute_error: 0.0531\n",
      "Epoch 45/150\n",
      "600/600 [==============================] - 0s 634us/sample - loss: 0.0049 - mean_squared_error: 0.0049 - mean_absolute_error: 0.0559 - val_loss: 0.0034 - val_mean_squared_error: 0.0034 - val_mean_absolute_error: 0.0483\n",
      "Epoch 46/150\n",
      "600/600 [==============================] - 0s 630us/sample - loss: 0.0046 - mean_squared_error: 0.0046 - mean_absolute_error: 0.0538 - val_loss: 0.0047 - val_mean_squared_error: 0.0047 - val_mean_absolute_error: 0.0573\n",
      "Epoch 47/150\n",
      "600/600 [==============================] - 0s 625us/sample - loss: 0.0044 - mean_squared_error: 0.0044 - mean_absolute_error: 0.0548 - val_loss: 0.0021 - val_mean_squared_error: 0.0021 - val_mean_absolute_error: 0.0365\n",
      "Epoch 48/150\n",
      "600/600 [==============================] - 0s 645us/sample - loss: 0.0035 - mean_squared_error: 0.0035 - mean_absolute_error: 0.0468 - val_loss: 0.0037 - val_mean_squared_error: 0.0037 - val_mean_absolute_error: 0.0511\n",
      "Epoch 49/150\n",
      "600/600 [==============================] - 0s 635us/sample - loss: 0.0059 - mean_squared_error: 0.0059 - mean_absolute_error: 0.0606 - val_loss: 0.0171 - val_mean_squared_error: 0.0171 - val_mean_absolute_error: 0.1050\n",
      "Epoch 50/150\n",
      "600/600 [==============================] - 0s 628us/sample - loss: 0.0110 - mean_squared_error: 0.0110 - mean_absolute_error: 0.0835 - val_loss: 0.0082 - val_mean_squared_error: 0.0082 - val_mean_absolute_error: 0.0721\n",
      "Epoch 51/150\n",
      "600/600 [==============================] - 0s 622us/sample - loss: 0.0065 - mean_squared_error: 0.0065 - mean_absolute_error: 0.0620 - val_loss: 0.0026 - val_mean_squared_error: 0.0026 - val_mean_absolute_error: 0.0411\n",
      "Epoch 52/150\n",
      "600/600 [==============================] - 0s 628us/sample - loss: 0.0035 - mean_squared_error: 0.0035 - mean_absolute_error: 0.0464 - val_loss: 0.0031 - val_mean_squared_error: 0.0031 - val_mean_absolute_error: 0.0456\n",
      "Epoch 53/150\n",
      "600/600 [==============================] - 0s 635us/sample - loss: 0.0036 - mean_squared_error: 0.0036 - mean_absolute_error: 0.0480 - val_loss: 0.0093 - val_mean_squared_error: 0.0093 - val_mean_absolute_error: 0.0793\n",
      "Epoch 54/150\n",
      "600/600 [==============================] - 0s 617us/sample - loss: 0.0033 - mean_squared_error: 0.0033 - mean_absolute_error: 0.0451 - val_loss: 0.0023 - val_mean_squared_error: 0.0023 - val_mean_absolute_error: 0.0389\n",
      "Epoch 55/150\n",
      "600/600 [==============================] - 0s 618us/sample - loss: 0.0029 - mean_squared_error: 0.0029 - mean_absolute_error: 0.0434 - val_loss: 0.0030 - val_mean_squared_error: 0.0030 - val_mean_absolute_error: 0.0456\n",
      "Epoch 56/150\n",
      "600/600 [==============================] - 0s 626us/sample - loss: 0.0026 - mean_squared_error: 0.0026 - mean_absolute_error: 0.0420 - val_loss: 0.0025 - val_mean_squared_error: 0.0025 - val_mean_absolute_error: 0.0412\n",
      "Epoch 57/150\n",
      "600/600 [==============================] - 0s 640us/sample - loss: 0.0024 - mean_squared_error: 0.0024 - mean_absolute_error: 0.0396 - val_loss: 0.0018 - val_mean_squared_error: 0.0018 - val_mean_absolute_error: 0.0335\n",
      "Epoch 58/150\n",
      "600/600 [==============================] - 0s 634us/sample - loss: 0.0025 - mean_squared_error: 0.0025 - mean_absolute_error: 0.0398 - val_loss: 0.0019 - val_mean_squared_error: 0.0019 - val_mean_absolute_error: 0.0357\n",
      "Epoch 59/150\n",
      "600/600 [==============================] - 0s 644us/sample - loss: 0.0038 - mean_squared_error: 0.0038 - mean_absolute_error: 0.0490 - val_loss: 0.0023 - val_mean_squared_error: 0.0023 - val_mean_absolute_error: 0.0390\n",
      "Epoch 60/150\n",
      "600/600 [==============================] - 0s 631us/sample - loss: 0.0051 - mean_squared_error: 0.0051 - mean_absolute_error: 0.0584 - val_loss: 0.0160 - val_mean_squared_error: 0.0160 - val_mean_absolute_error: 0.1100\n",
      "Epoch 61/150\n",
      "600/600 [==============================] - 0s 616us/sample - loss: 0.0099 - mean_squared_error: 0.0099 - mean_absolute_error: 0.0789 - val_loss: 0.0145 - val_mean_squared_error: 0.0145 - val_mean_absolute_error: 0.0927\n",
      "Epoch 62/150\n",
      "600/600 [==============================] - 0s 634us/sample - loss: 0.0128 - mean_squared_error: 0.0128 - mean_absolute_error: 0.0878 - val_loss: 0.0099 - val_mean_squared_error: 0.0099 - val_mean_absolute_error: 0.0840\n",
      "Epoch 63/150\n",
      "600/600 [==============================] - 0s 637us/sample - loss: 0.0108 - mean_squared_error: 0.0108 - mean_absolute_error: 0.0821 - val_loss: 0.0163 - val_mean_squared_error: 0.0163 - val_mean_absolute_error: 0.0994\n",
      "Epoch 64/150\n",
      "600/600 [==============================] - 0s 629us/sample - loss: 0.0102 - mean_squared_error: 0.0102 - mean_absolute_error: 0.0802 - val_loss: 0.0059 - val_mean_squared_error: 0.0059 - val_mean_absolute_error: 0.0572\n",
      "Epoch 65/150\n",
      "600/600 [==============================] - 0s 640us/sample - loss: 0.0059 - mean_squared_error: 0.0059 - mean_absolute_error: 0.0616 - val_loss: 0.0053 - val_mean_squared_error: 0.0053 - val_mean_absolute_error: 0.0589\n",
      "Epoch 66/150\n",
      "600/600 [==============================] - 0s 645us/sample - loss: 0.0069 - mean_squared_error: 0.0069 - mean_absolute_error: 0.0667 - val_loss: 0.0082 - val_mean_squared_error: 0.0082 - val_mean_absolute_error: 0.0718\n",
      "Epoch 67/150\n",
      "600/600 [==============================] - 0s 638us/sample - loss: 0.0079 - mean_squared_error: 0.0079 - mean_absolute_error: 0.0721 - val_loss: 0.0083 - val_mean_squared_error: 0.0083 - val_mean_absolute_error: 0.0726\n",
      "Epoch 68/150\n",
      "600/600 [==============================] - 0s 635us/sample - loss: 0.0051 - mean_squared_error: 0.0051 - mean_absolute_error: 0.0570 - val_loss: 0.0030 - val_mean_squared_error: 0.0030 - val_mean_absolute_error: 0.0462\n",
      "Epoch 69/150\n",
      "600/600 [==============================] - 0s 629us/sample - loss: 0.0037 - mean_squared_error: 0.0037 - mean_absolute_error: 0.0493 - val_loss: 0.0041 - val_mean_squared_error: 0.0041 - val_mean_absolute_error: 0.0526\n",
      "Epoch 70/150\n"
     ]
    },
    {
     "name": "stdout",
     "output_type": "stream",
     "text": [
      "600/600 [==============================] - 0s 635us/sample - loss: 0.0037 - mean_squared_error: 0.0037 - mean_absolute_error: 0.0497 - val_loss: 0.0044 - val_mean_squared_error: 0.0044 - val_mean_absolute_error: 0.0534\n",
      "Epoch 71/150\n",
      "600/600 [==============================] - 0s 607us/sample - loss: 0.0034 - mean_squared_error: 0.0034 - mean_absolute_error: 0.0482 - val_loss: 0.0035 - val_mean_squared_error: 0.0035 - val_mean_absolute_error: 0.0496\n",
      "Epoch 72/150\n",
      "600/600 [==============================] - 0s 629us/sample - loss: 0.0024 - mean_squared_error: 0.0024 - mean_absolute_error: 0.0392 - val_loss: 0.0025 - val_mean_squared_error: 0.0025 - val_mean_absolute_error: 0.0409\n",
      "Epoch 73/150\n",
      "600/600 [==============================] - 0s 621us/sample - loss: 0.0018 - mean_squared_error: 0.0018 - mean_absolute_error: 0.0343 - val_loss: 0.0019 - val_mean_squared_error: 0.0019 - val_mean_absolute_error: 0.0336\n",
      "Epoch 74/150\n",
      "600/600 [==============================] - 0s 616us/sample - loss: 0.0017 - mean_squared_error: 0.0017 - mean_absolute_error: 0.0332 - val_loss: 0.0023 - val_mean_squared_error: 0.0023 - val_mean_absolute_error: 0.0384\n",
      "Epoch 75/150\n",
      "600/600 [==============================] - 0s 623us/sample - loss: 0.0018 - mean_squared_error: 0.0018 - mean_absolute_error: 0.0336 - val_loss: 0.0018 - val_mean_squared_error: 0.0018 - val_mean_absolute_error: 0.0349\n",
      "Epoch 76/150\n",
      "600/600 [==============================] - 0s 616us/sample - loss: 0.0027 - mean_squared_error: 0.0027 - mean_absolute_error: 0.0415 - val_loss: 0.0025 - val_mean_squared_error: 0.0025 - val_mean_absolute_error: 0.0427\n",
      "Epoch 77/150\n",
      "600/600 [==============================] - 0s 619us/sample - loss: 0.0038 - mean_squared_error: 0.0038 - mean_absolute_error: 0.0478 - val_loss: 0.0026 - val_mean_squared_error: 0.0026 - val_mean_absolute_error: 0.0430\n",
      "Epoch 78/150\n",
      "600/600 [==============================] - 0s 617us/sample - loss: 0.0042 - mean_squared_error: 0.0042 - mean_absolute_error: 0.0506 - val_loss: 0.0027 - val_mean_squared_error: 0.0027 - val_mean_absolute_error: 0.0434\n",
      "Epoch 79/150\n",
      "600/600 [==============================] - 0s 605us/sample - loss: 0.0033 - mean_squared_error: 0.0033 - mean_absolute_error: 0.0452 - val_loss: 0.0023 - val_mean_squared_error: 0.0023 - val_mean_absolute_error: 0.0405\n",
      "Epoch 80/150\n",
      "600/600 [==============================] - 0s 632us/sample - loss: 0.0019 - mean_squared_error: 0.0019 - mean_absolute_error: 0.0349 - val_loss: 0.0017 - val_mean_squared_error: 0.0017 - val_mean_absolute_error: 0.0320\n",
      "Epoch 81/150\n",
      "600/600 [==============================] - 0s 619us/sample - loss: 0.0018 - mean_squared_error: 0.0018 - mean_absolute_error: 0.0328 - val_loss: 0.0033 - val_mean_squared_error: 0.0033 - val_mean_absolute_error: 0.0493\n",
      "Epoch 82/150\n",
      "600/600 [==============================] - 0s 618us/sample - loss: 0.0024 - mean_squared_error: 0.0024 - mean_absolute_error: 0.0388 - val_loss: 0.0027 - val_mean_squared_error: 0.0027 - val_mean_absolute_error: 0.0440\n",
      "Epoch 83/150\n",
      "600/600 [==============================] - 0s 620us/sample - loss: 0.0026 - mean_squared_error: 0.0026 - mean_absolute_error: 0.0404 - val_loss: 0.0027 - val_mean_squared_error: 0.0027 - val_mean_absolute_error: 0.0420\n",
      "Epoch 84/150\n",
      "600/600 [==============================] - 0s 651us/sample - loss: 0.0025 - mean_squared_error: 0.0025 - mean_absolute_error: 0.0398 - val_loss: 0.0023 - val_mean_squared_error: 0.0023 - val_mean_absolute_error: 0.0381\n",
      "Epoch 85/150\n",
      "600/600 [==============================] - 0s 621us/sample - loss: 0.0022 - mean_squared_error: 0.0022 - mean_absolute_error: 0.0369 - val_loss: 0.0027 - val_mean_squared_error: 0.0027 - val_mean_absolute_error: 0.0429\n",
      "Epoch 86/150\n",
      "600/600 [==============================] - 0s 632us/sample - loss: 0.0043 - mean_squared_error: 0.0043 - mean_absolute_error: 0.0509 - val_loss: 0.0080 - val_mean_squared_error: 0.0080 - val_mean_absolute_error: 0.0722\n",
      "Epoch 87/150\n",
      "600/600 [==============================] - 0s 640us/sample - loss: 0.0039 - mean_squared_error: 0.0039 - mean_absolute_error: 0.0492 - val_loss: 0.0035 - val_mean_squared_error: 0.0035 - val_mean_absolute_error: 0.0490\n",
      "Epoch 88/150\n",
      "600/600 [==============================] - 0s 631us/sample - loss: 0.0028 - mean_squared_error: 0.0028 - mean_absolute_error: 0.0417 - val_loss: 0.0017 - val_mean_squared_error: 0.0017 - val_mean_absolute_error: 0.0331\n",
      "Epoch 89/150\n",
      "600/600 [==============================] - 0s 628us/sample - loss: 0.0022 - mean_squared_error: 0.0022 - mean_absolute_error: 0.0371 - val_loss: 0.0044 - val_mean_squared_error: 0.0044 - val_mean_absolute_error: 0.0547\n",
      "Epoch 90/150\n",
      "600/600 [==============================] - 0s 631us/sample - loss: 0.0033 - mean_squared_error: 0.0033 - mean_absolute_error: 0.0454 - val_loss: 0.0023 - val_mean_squared_error: 0.0023 - val_mean_absolute_error: 0.0399\n",
      "Epoch 91/150\n",
      "600/600 [==============================] - 0s 628us/sample - loss: 0.0022 - mean_squared_error: 0.0022 - mean_absolute_error: 0.0381 - val_loss: 0.0020 - val_mean_squared_error: 0.0020 - val_mean_absolute_error: 0.0349\n",
      "Epoch 92/150\n",
      "600/600 [==============================] - 0s 631us/sample - loss: 0.0022 - mean_squared_error: 0.0022 - mean_absolute_error: 0.0380 - val_loss: 0.0054 - val_mean_squared_error: 0.0054 - val_mean_absolute_error: 0.0624\n",
      "Epoch 93/150\n",
      "600/600 [==============================] - 0s 635us/sample - loss: 0.0042 - mean_squared_error: 0.0042 - mean_absolute_error: 0.0515 - val_loss: 0.0017 - val_mean_squared_error: 0.0017 - val_mean_absolute_error: 0.0348\n",
      "Epoch 94/150\n",
      "600/600 [==============================] - 0s 625us/sample - loss: 0.0036 - mean_squared_error: 0.0036 - mean_absolute_error: 0.0470 - val_loss: 0.0021 - val_mean_squared_error: 0.0021 - val_mean_absolute_error: 0.0375\n",
      "Epoch 95/150\n",
      "600/600 [==============================] - 0s 622us/sample - loss: 0.0016 - mean_squared_error: 0.0016 - mean_absolute_error: 0.0315 - val_loss: 0.0014 - val_mean_squared_error: 0.0014 - val_mean_absolute_error: 0.0291\n",
      "Epoch 96/150\n",
      "600/600 [==============================] - 0s 644us/sample - loss: 0.0015 - mean_squared_error: 0.0015 - mean_absolute_error: 0.0304 - val_loss: 0.0018 - val_mean_squared_error: 0.0018 - val_mean_absolute_error: 0.0343\n",
      "Epoch 97/150\n",
      "600/600 [==============================] - 0s 617us/sample - loss: 0.0023 - mean_squared_error: 0.0023 - mean_absolute_error: 0.0381 - val_loss: 0.0025 - val_mean_squared_error: 0.0025 - val_mean_absolute_error: 0.0432\n",
      "Epoch 98/150\n",
      "600/600 [==============================] - 0s 639us/sample - loss: 0.0038 - mean_squared_error: 0.0038 - mean_absolute_error: 0.0467 - val_loss: 0.0022 - val_mean_squared_error: 0.0022 - val_mean_absolute_error: 0.0386\n",
      "Epoch 99/150\n",
      "600/600 [==============================] - 0s 658us/sample - loss: 0.0128 - mean_squared_error: 0.0128 - mean_absolute_error: 0.0858 - val_loss: 0.0052 - val_mean_squared_error: 0.0052 - val_mean_absolute_error: 0.0603\n",
      "Epoch 100/150\n",
      "600/600 [==============================] - 0s 636us/sample - loss: 0.0088 - mean_squared_error: 0.0088 - mean_absolute_error: 0.0746 - val_loss: 0.0051 - val_mean_squared_error: 0.0051 - val_mean_absolute_error: 0.0573\n",
      "Epoch 101/150\n",
      "600/600 [==============================] - 0s 628us/sample - loss: 0.0049 - mean_squared_error: 0.0049 - mean_absolute_error: 0.0562 - val_loss: 0.0030 - val_mean_squared_error: 0.0030 - val_mean_absolute_error: 0.0448\n",
      "Epoch 102/150\n",
      "600/600 [==============================] - 0s 655us/sample - loss: 0.0028 - mean_squared_error: 0.0028 - mean_absolute_error: 0.0421 - val_loss: 0.0022 - val_mean_squared_error: 0.0022 - val_mean_absolute_error: 0.0380\n",
      "Epoch 103/150\n",
      "600/600 [==============================] - 0s 636us/sample - loss: 0.0023 - mean_squared_error: 0.0023 - mean_absolute_error: 0.0384 - val_loss: 0.0029 - val_mean_squared_error: 0.0029 - val_mean_absolute_error: 0.0410\n",
      "Epoch 104/150\n",
      "600/600 [==============================] - 0s 636us/sample - loss: 0.0018 - mean_squared_error: 0.0018 - mean_absolute_error: 0.0321 - val_loss: 0.0015 - val_mean_squared_error: 0.0015 - val_mean_absolute_error: 0.0301\n",
      "Epoch 105/150\n"
     ]
    },
    {
     "name": "stdout",
     "output_type": "stream",
     "text": [
      "600/600 [==============================] - 0s 632us/sample - loss: 0.0020 - mean_squared_error: 0.0020 - mean_absolute_error: 0.0356 - val_loss: 0.0019 - val_mean_squared_error: 0.0019 - val_mean_absolute_error: 0.0354\n",
      "Epoch 106/150\n",
      "600/600 [==============================] - 0s 630us/sample - loss: 0.0017 - mean_squared_error: 0.0017 - mean_absolute_error: 0.0314 - val_loss: 0.0018 - val_mean_squared_error: 0.0018 - val_mean_absolute_error: 0.0339\n",
      "Epoch 107/150\n",
      "600/600 [==============================] - 0s 639us/sample - loss: 0.0024 - mean_squared_error: 0.0024 - mean_absolute_error: 0.0382 - val_loss: 0.0035 - val_mean_squared_error: 0.0035 - val_mean_absolute_error: 0.0501\n",
      "Epoch 108/150\n",
      "600/600 [==============================] - 0s 608us/sample - loss: 0.0050 - mean_squared_error: 0.0050 - mean_absolute_error: 0.0559 - val_loss: 0.0021 - val_mean_squared_error: 0.0021 - val_mean_absolute_error: 0.0371\n",
      "Epoch 109/150\n",
      "600/600 [==============================] - 0s 616us/sample - loss: 0.0031 - mean_squared_error: 0.0031 - mean_absolute_error: 0.0438 - val_loss: 0.0017 - val_mean_squared_error: 0.0017 - val_mean_absolute_error: 0.0336\n",
      "Epoch 110/150\n",
      "600/600 [==============================] - 0s 626us/sample - loss: 0.0035 - mean_squared_error: 0.0035 - mean_absolute_error: 0.0465 - val_loss: 0.0021 - val_mean_squared_error: 0.0021 - val_mean_absolute_error: 0.0375\n",
      "Epoch 111/150\n",
      "600/600 [==============================] - 0s 628us/sample - loss: 0.0038 - mean_squared_error: 0.0038 - mean_absolute_error: 0.0496 - val_loss: 0.0028 - val_mean_squared_error: 0.0028 - val_mean_absolute_error: 0.0430\n",
      "Epoch 112/150\n",
      "600/600 [==============================] - 0s 629us/sample - loss: 0.0027 - mean_squared_error: 0.0027 - mean_absolute_error: 0.0415 - val_loss: 0.0028 - val_mean_squared_error: 0.0028 - val_mean_absolute_error: 0.0433\n",
      "Epoch 113/150\n",
      "600/600 [==============================] - 0s 634us/sample - loss: 0.0020 - mean_squared_error: 0.0020 - mean_absolute_error: 0.0361 - val_loss: 0.0016 - val_mean_squared_error: 0.0016 - val_mean_absolute_error: 0.0324\n",
      "Epoch 114/150\n",
      "600/600 [==============================] - 0s 632us/sample - loss: 0.0021 - mean_squared_error: 0.0021 - mean_absolute_error: 0.0364 - val_loss: 0.0020 - val_mean_squared_error: 0.0020 - val_mean_absolute_error: 0.0355\n",
      "Epoch 115/150\n",
      "600/600 [==============================] - 0s 634us/sample - loss: 0.0027 - mean_squared_error: 0.0027 - mean_absolute_error: 0.0409 - val_loss: 0.0091 - val_mean_squared_error: 0.0091 - val_mean_absolute_error: 0.0765\n",
      "Epoch 116/150\n",
      "600/600 [==============================] - 0s 640us/sample - loss: 0.0040 - mean_squared_error: 0.0040 - mean_absolute_error: 0.0506 - val_loss: 0.0017 - val_mean_squared_error: 0.0017 - val_mean_absolute_error: 0.0330\n",
      "Epoch 117/150\n",
      "600/600 [==============================] - 0s 629us/sample - loss: 0.0053 - mean_squared_error: 0.0053 - mean_absolute_error: 0.0583 - val_loss: 0.0037 - val_mean_squared_error: 0.0037 - val_mean_absolute_error: 0.0500\n",
      "Epoch 118/150\n",
      "600/600 [==============================] - 0s 633us/sample - loss: 0.0038 - mean_squared_error: 0.0038 - mean_absolute_error: 0.0492 - val_loss: 0.0019 - val_mean_squared_error: 0.0019 - val_mean_absolute_error: 0.0351\n",
      "Epoch 119/150\n",
      "600/600 [==============================] - 0s 638us/sample - loss: 0.0019 - mean_squared_error: 0.0019 - mean_absolute_error: 0.0339 - val_loss: 0.0014 - val_mean_squared_error: 0.0014 - val_mean_absolute_error: 0.0298\n",
      "Epoch 120/150\n",
      "600/600 [==============================] - 0s 650us/sample - loss: 0.0014 - mean_squared_error: 0.0014 - mean_absolute_error: 0.0280 - val_loss: 0.0013 - val_mean_squared_error: 0.0013 - val_mean_absolute_error: 0.0282\n",
      "Epoch 121/150\n",
      "600/600 [==============================] - 0s 648us/sample - loss: 0.0016 - mean_squared_error: 0.0016 - mean_absolute_error: 0.0309 - val_loss: 0.0018 - val_mean_squared_error: 0.0018 - val_mean_absolute_error: 0.0330\n",
      "Epoch 122/150\n",
      "600/600 [==============================] - 0s 641us/sample - loss: 0.0021 - mean_squared_error: 0.0021 - mean_absolute_error: 0.0359 - val_loss: 0.0059 - val_mean_squared_error: 0.0059 - val_mean_absolute_error: 0.0661\n",
      "Epoch 123/150\n",
      "600/600 [==============================] - 0s 637us/sample - loss: 0.0028 - mean_squared_error: 0.0028 - mean_absolute_error: 0.0419 - val_loss: 0.0045 - val_mean_squared_error: 0.0045 - val_mean_absolute_error: 0.0557\n",
      "Epoch 124/150\n",
      "600/600 [==============================] - 0s 661us/sample - loss: 0.0020 - mean_squared_error: 0.0020 - mean_absolute_error: 0.0346 - val_loss: 0.0012 - val_mean_squared_error: 0.0012 - val_mean_absolute_error: 0.0270\n",
      "Epoch 125/150\n",
      "600/600 [==============================] - 0s 638us/sample - loss: 0.0019 - mean_squared_error: 0.0019 - mean_absolute_error: 0.0344 - val_loss: 0.0049 - val_mean_squared_error: 0.0049 - val_mean_absolute_error: 0.0574\n",
      "Epoch 126/150\n",
      "600/600 [==============================] - 0s 631us/sample - loss: 0.0020 - mean_squared_error: 0.0020 - mean_absolute_error: 0.0343 - val_loss: 0.0016 - val_mean_squared_error: 0.0016 - val_mean_absolute_error: 0.0338\n",
      "Epoch 127/150\n",
      "600/600 [==============================] - 0s 669us/sample - loss: 0.0018 - mean_squared_error: 0.0018 - mean_absolute_error: 0.0331 - val_loss: 0.0024 - val_mean_squared_error: 0.0024 - val_mean_absolute_error: 0.0413\n",
      "Epoch 128/150\n",
      "600/600 [==============================] - 0s 631us/sample - loss: 0.0018 - mean_squared_error: 0.0018 - mean_absolute_error: 0.0334 - val_loss: 0.0017 - val_mean_squared_error: 0.0017 - val_mean_absolute_error: 0.0340\n",
      "Epoch 129/150\n",
      "600/600 [==============================] - 0s 658us/sample - loss: 0.0015 - mean_squared_error: 0.0015 - mean_absolute_error: 0.0304 - val_loss: 0.0013 - val_mean_squared_error: 0.0013 - val_mean_absolute_error: 0.0295\n",
      "Epoch 130/150\n",
      "600/600 [==============================] - 0s 637us/sample - loss: 0.0020 - mean_squared_error: 0.0020 - mean_absolute_error: 0.0351 - val_loss: 0.0042 - val_mean_squared_error: 0.0042 - val_mean_absolute_error: 0.0545\n",
      "Epoch 131/150\n",
      "600/600 [==============================] - 0s 636us/sample - loss: 0.0031 - mean_squared_error: 0.0031 - mean_absolute_error: 0.0446 - val_loss: 0.0023 - val_mean_squared_error: 0.0023 - val_mean_absolute_error: 0.0394\n",
      "Epoch 132/150\n",
      "600/600 [==============================] - 0s 633us/sample - loss: 0.0040 - mean_squared_error: 0.0040 - mean_absolute_error: 0.0499 - val_loss: 0.0024 - val_mean_squared_error: 0.0024 - val_mean_absolute_error: 0.0377\n",
      "Epoch 133/150\n",
      "600/600 [==============================] - 0s 642us/sample - loss: 0.0018 - mean_squared_error: 0.0018 - mean_absolute_error: 0.0335 - val_loss: 0.0012 - val_mean_squared_error: 0.0012 - val_mean_absolute_error: 0.0284\n",
      "Epoch 134/150\n",
      "600/600 [==============================] - 0s 647us/sample - loss: 0.0017 - mean_squared_error: 0.0017 - mean_absolute_error: 0.0324 - val_loss: 0.0016 - val_mean_squared_error: 0.0016 - val_mean_absolute_error: 0.0306\n",
      "Epoch 135/150\n",
      "600/600 [==============================] - 0s 638us/sample - loss: 0.0017 - mean_squared_error: 0.0017 - mean_absolute_error: 0.0326 - val_loss: 0.0013 - val_mean_squared_error: 0.0013 - val_mean_absolute_error: 0.0284\n",
      "Epoch 136/150\n",
      "600/600 [==============================] - 0s 618us/sample - loss: 0.0022 - mean_squared_error: 0.0022 - mean_absolute_error: 0.0376 - val_loss: 0.0018 - val_mean_squared_error: 0.0018 - val_mean_absolute_error: 0.0348\n",
      "Epoch 137/150\n",
      "600/600 [==============================] - 0s 639us/sample - loss: 0.0017 - mean_squared_error: 0.0017 - mean_absolute_error: 0.0328 - val_loss: 9.2197e-04 - val_mean_squared_error: 9.2197e-04 - val_mean_absolute_error: 0.0246\n",
      "Epoch 138/150\n",
      "600/600 [==============================] - 0s 656us/sample - loss: 0.0038 - mean_squared_error: 0.0038 - mean_absolute_error: 0.0478 - val_loss: 0.0018 - val_mean_squared_error: 0.0018 - val_mean_absolute_error: 0.0329\n",
      "Epoch 139/150\n",
      "600/600 [==============================] - 0s 799us/sample - loss: 0.0049 - mean_squared_error: 0.0049 - mean_absolute_error: 0.0547 - val_loss: 0.0026 - val_mean_squared_error: 0.0026 - val_mean_absolute_error: 0.0409\n",
      "Epoch 140/150\n"
     ]
    },
    {
     "name": "stdout",
     "output_type": "stream",
     "text": [
      "600/600 [==============================] - 1s 943us/sample - loss: 0.0027 - mean_squared_error: 0.0027 - mean_absolute_error: 0.0404 - val_loss: 0.0013 - val_mean_squared_error: 0.0013 - val_mean_absolute_error: 0.0295\n",
      "Epoch 141/150\n",
      "600/600 [==============================] - 1s 955us/sample - loss: 0.0027 - mean_squared_error: 0.0027 - mean_absolute_error: 0.0409 - val_loss: 0.0092 - val_mean_squared_error: 0.0092 - val_mean_absolute_error: 0.0800\n",
      "Epoch 142/150\n",
      "600/600 [==============================] - 1s 899us/sample - loss: 0.0070 - mean_squared_error: 0.0070 - mean_absolute_error: 0.0642 - val_loss: 0.0056 - val_mean_squared_error: 0.0056 - val_mean_absolute_error: 0.0598\n",
      "Epoch 143/150\n",
      "600/600 [==============================] - 1s 948us/sample - loss: 0.0026 - mean_squared_error: 0.0026 - mean_absolute_error: 0.0384 - val_loss: 0.0017 - val_mean_squared_error: 0.0017 - val_mean_absolute_error: 0.0330\n",
      "Epoch 144/150\n",
      "600/600 [==============================] - 0s 675us/sample - loss: 0.0015 - mean_squared_error: 0.0015 - mean_absolute_error: 0.0302 - val_loss: 0.0016 - val_mean_squared_error: 0.0016 - val_mean_absolute_error: 0.0322\n",
      "Epoch 145/150\n",
      "600/600 [==============================] - 1s 889us/sample - loss: 0.0020 - mean_squared_error: 0.0020 - mean_absolute_error: 0.0363 - val_loss: 0.0011 - val_mean_squared_error: 0.0011 - val_mean_absolute_error: 0.0270\n",
      "Epoch 146/150\n",
      "600/600 [==============================] - 0s 709us/sample - loss: 0.0014 - mean_squared_error: 0.0014 - mean_absolute_error: 0.0296 - val_loss: 0.0012 - val_mean_squared_error: 0.0012 - val_mean_absolute_error: 0.0299\n",
      "Epoch 147/150\n",
      "600/600 [==============================] - 0s 706us/sample - loss: 0.0021 - mean_squared_error: 0.0021 - mean_absolute_error: 0.0354 - val_loss: 0.0023 - val_mean_squared_error: 0.0023 - val_mean_absolute_error: 0.0344\n",
      "Epoch 148/150\n",
      "600/600 [==============================] - 0s 732us/sample - loss: 0.0097 - mean_squared_error: 0.0097 - mean_absolute_error: 0.0750 - val_loss: 0.0121 - val_mean_squared_error: 0.0121 - val_mean_absolute_error: 0.0882\n",
      "Epoch 149/150\n",
      "600/600 [==============================] - 0s 718us/sample - loss: 0.0072 - mean_squared_error: 0.0072 - mean_absolute_error: 0.0668 - val_loss: 0.0114 - val_mean_squared_error: 0.0114 - val_mean_absolute_error: 0.0832\n",
      "Epoch 150/150\n",
      "600/600 [==============================] - 0s 720us/sample - loss: 0.0076 - mean_squared_error: 0.0076 - mean_absolute_error: 0.0702 - val_loss: 0.0072 - val_mean_squared_error: 0.0072 - val_mean_absolute_error: 0.0671\n"
     ]
    }
   ],
   "source": [
    "# history = model.fit(X_train, y_train, epochs=150, batch_size=50,  verbose=1, validation_split=0.2)\n",
    "history = model.fit(x_poly, y_train, epochs=150, batch_size=50,  verbose=1, validation_split=0.2)"
   ]
  },
  {
   "cell_type": "code",
   "execution_count": 10,
   "metadata": {},
   "outputs": [
    {
     "name": "stdout",
     "output_type": "stream",
     "text": [
      "dict_keys(['loss', 'mean_squared_error', 'mean_absolute_error', 'val_loss', 'val_mean_squared_error', 'val_mean_absolute_error'])\n"
     ]
    },
    {
     "data": {
      "image/png": "[encoded data removed]",
      "text/plain": [
       "<Figure size 432x288 with 1 Axes>"
      ]
     },
     "metadata": {
      "needs_background": "light"
     },
     "output_type": "display_data"
    }
   ],
   "source": [
    "print(history.history.keys())\n",
    "# \"Loss\"\n",
    "plt.plot(history.history['loss'])\n",
    "plt.plot(history.history['val_loss'])\n",
    "plt.title('model loss')\n",
    "plt.ylabel('loss')\n",
    "plt.xlabel('epoch')\n",
    "plt.legend(['train', 'validation'], loc='upper left')\n",
    "plt.show()"
   ]
  },
  {
   "cell_type": "code",
   "execution_count": 11,
   "metadata": {
    "scrolled": true
   },
   "outputs": [
    {
     "data": {
      "image/png": "[encoded data removed]",
      "text/plain": [
       "<Figure size 432x288 with 1 Axes>"
      ]
     },
     "metadata": {
      "needs_background": "light"
     },
     "output_type": "display_data"
    }
   ],
   "source": [
    "poly_feat = PolynomialFeatures(degree=deg)\n",
    "x_poly = poly_feat.fit_transform(X_test)\n",
    "pred = model.predict(x_poly)\n",
    "plt.scatter(X_test,y_test,label=\"Original Data\")\n",
    "plt.scatter(X_test,pred,label=\"Predicted Data\", c='r')\n",
    "plt.legend(loc='best')\n",
    "plt.ylabel('Y')\n",
    "plt.xlabel('X')\n",
    "plt.title('NN Regresi')\n",
    "plt.show()"
   ]
  },
  {
   "cell_type": "code",
   "execution_count": 12,
   "metadata": {},
   "outputs": [
    {
     "data": {
      "text/html": [
       "<div>\n",
       "<style scoped>\n",
       "    .dataframe tbody tr th:only-of-type {\n",
       "        vertical-align: middle;\n",
       "    }\n",
       "\n",
       "    .dataframe tbody tr th {\n",
       "        vertical-align: top;\n",
       "    }\n",
       "\n",
       "    .dataframe thead th {\n",
       "        text-align: right;\n",
       "    }\n",
       "</style>\n",
       "<table border=\"1\" class=\"dataframe\">\n",
       "  <thead>\n",
       "    <tr style=\"text-align: right;\">\n",
       "      <th></th>\n",
       "      <th>0</th>\n",
       "      <th>1</th>\n",
       "    </tr>\n",
       "  </thead>\n",
       "  <tbody>\n",
       "    <tr>\n",
       "      <th>0</th>\n",
       "      <td>0</td>\n",
       "      <td>0.654163</td>\n",
       "    </tr>\n",
       "    <tr>\n",
       "      <th>1</th>\n",
       "      <td>1</td>\n",
       "      <td>1.240050</td>\n",
       "    </tr>\n",
       "    <tr>\n",
       "      <th>2</th>\n",
       "      <td>2</td>\n",
       "      <td>0.763315</td>\n",
       "    </tr>\n",
       "    <tr>\n",
       "      <th>3</th>\n",
       "      <td>3</td>\n",
       "      <td>1.033739</td>\n",
       "    </tr>\n",
       "    <tr>\n",
       "      <th>4</th>\n",
       "      <td>4</td>\n",
       "      <td>0.514575</td>\n",
       "    </tr>\n",
       "  </tbody>\n",
       "</table>\n",
       "</div>"
      ],
      "text/plain": [
       "   0         1\n",
       "0  0  0.654163\n",
       "1  1  1.240050\n",
       "2  2  0.763315\n",
       "3  3  1.033739\n",
       "4  4  0.514575"
      ]
     },
     "execution_count": 12,
     "metadata": {},
     "output_type": "execute_result"
    }
   ],
   "source": [
    "#load dataset\n",
    "problem = pd.read_csv('../el4233-2018-2019-02-ann-regresi-test.csv', header=None)\n",
    "X_test = problem.iloc[:,0].values\n",
    "# y = df.iloc[:,1].values\n",
    "\n",
    "X_test = X_test[:, np.newaxis]\n",
    "problem.head()"
   ]
  },
  {
   "cell_type": "code",
   "execution_count": 13,
   "metadata": {},
   "outputs": [],
   "source": [
    "xscale=scaler.transform(X_test)"
   ]
  },
  {
   "cell_type": "code",
   "execution_count": 14,
   "metadata": {},
   "outputs": [],
   "source": [
    "poly_feat = PolynomialFeatures(degree=deg)\n",
    "x_poly = poly_feat.fit_transform(xscale)\n",
    "y_pred = model.predict(x_poly)"
   ]
  },
  {
   "cell_type": "code",
   "execution_count": 18,
   "metadata": {},
   "outputs": [],
   "source": [
    "pred = scaler.inverse_transform(y_pred)"
   ]
  },
  {
   "cell_type": "code",
   "execution_count": 19,
   "metadata": {},
   "outputs": [
    {
     "data": {
      "text/html": [
       "<div>\n",
       "<style scoped>\n",
       "    .dataframe tbody tr th:only-of-type {\n",
       "        vertical-align: middle;\n",
       "    }\n",
       "\n",
       "    .dataframe tbody tr th {\n",
       "        vertical-align: top;\n",
       "    }\n",
       "\n",
       "    .dataframe thead th {\n",
       "        text-align: right;\n",
       "    }\n",
       "</style>\n",
       "<table border=\"1\" class=\"dataframe\">\n",
       "  <thead>\n",
       "    <tr style=\"text-align: right;\">\n",
       "      <th></th>\n",
       "      <th>1</th>\n",
       "      <th>0</th>\n",
       "    </tr>\n",
       "  </thead>\n",
       "  <tbody>\n",
       "    <tr>\n",
       "      <th>0</th>\n",
       "      <td>0.654163</td>\n",
       "      <td>6.479030</td>\n",
       "    </tr>\n",
       "    <tr>\n",
       "      <th>1</th>\n",
       "      <td>1.240050</td>\n",
       "      <td>2.094615</td>\n",
       "    </tr>\n",
       "    <tr>\n",
       "      <th>2</th>\n",
       "      <td>0.763315</td>\n",
       "      <td>-8.974266</td>\n",
       "    </tr>\n",
       "    <tr>\n",
       "      <th>3</th>\n",
       "      <td>1.033739</td>\n",
       "      <td>-4.568780</td>\n",
       "    </tr>\n",
       "    <tr>\n",
       "      <th>4</th>\n",
       "      <td>0.514575</td>\n",
       "      <td>-2.276428</td>\n",
       "    </tr>\n",
       "  </tbody>\n",
       "</table>\n",
       "</div>"
      ],
      "text/plain": [
       "          1         0\n",
       "0  0.654163  6.479030\n",
       "1  1.240050  2.094615\n",
       "2  0.763315 -8.974266\n",
       "3  1.033739 -4.568780\n",
       "4  0.514575 -2.276428"
      ]
     },
     "execution_count": 19,
     "metadata": {},
     "output_type": "execute_result"
    }
   ],
   "source": [
    "temp = pd.DataFrame(pred)\n",
    "result = pd.concat([problem[1], temp], axis = 1)\n",
    "result.head()"
   ]
  },
  {
   "cell_type": "code",
   "execution_count": 22,
   "metadata": {},
   "outputs": [],
   "source": [
    "result.to_csv('solution-test-18216002.csv', header=False, index=True)"
   ]
  }
 ],
 "metadata": {
  "kernelspec": {
   "display_name": "Python 3",
   "language": "python",
   "name": "python3"
  },
  "language_info": {
   "codemirror_mode": {
    "name": "ipython",
    "version": 3
   },
   "file_extension": ".py",
   "mimetype": "text/x-python",
   "name": "python",
   "nbconvert_exporter": "python",
   "pygments_lexer": "ipython3",
   "version": "3.7.1"
  }
 },
 "nbformat": 4,
 "nbformat_minor": 2
}
